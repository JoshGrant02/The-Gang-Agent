{
 "cells": [
  {
   "cell_type": "code",
   "execution_count": 21,
   "metadata": {},
   "outputs": [],
   "source": [
    "from game import TheGang"
   ]
  },
  {
   "cell_type": "code",
   "execution_count": 22,
   "metadata": {},
   "outputs": [],
   "source": [
    "environment = TheGang()"
   ]
  },
  {
   "cell_type": "code",
   "execution_count": 23,
   "metadata": {},
   "outputs": [
    {
     "data": {
      "text/plain": [
       "[HandFeatures(rank=<Rank.HIGH_CARD: 0>, two_pair_potential=<Potential.POSSIBLE: 1>, three_of_a_kind_potential=<Potential.POSSIBLE: 1>, straight_potential=<Potential.POSSIBLE: 1>, flush_potential=<Potential.POSSIBLE: 1>, full_house_potential=<Potential.POSSIBLE: 1>, four_of_a_kind_potential=<Potential.POSSIBLE: 1>, straight_flush_potential=<Potential.POSSIBLE: 1>),\n",
       " HandFeatures(rank=<Rank.HIGH_CARD: 0>, two_pair_potential=<Potential.POSSIBLE: 1>, three_of_a_kind_potential=<Potential.POSSIBLE: 1>, straight_potential=<Potential.POSSIBLE: 1>, flush_potential=<Potential.POSSIBLE: 1>, full_house_potential=<Potential.POSSIBLE: 1>, four_of_a_kind_potential=<Potential.POSSIBLE: 1>, straight_flush_potential=<Potential.POSSIBLE: 1>),\n",
       " HandFeatures(rank=<Rank.HIGH_CARD: 0>, two_pair_potential=<Potential.POSSIBLE: 1>, three_of_a_kind_potential=<Potential.POSSIBLE: 1>, straight_potential=<Potential.POSSIBLE: 1>, flush_potential=<Potential.POSSIBLE: 1>, full_house_potential=<Potential.POSSIBLE: 1>, four_of_a_kind_potential=<Potential.POSSIBLE: 1>, straight_flush_potential=<Potential.POSSIBLE: 1>),\n",
       " HandFeatures(rank=<Rank.HIGH_CARD: 0>, two_pair_potential=<Potential.POSSIBLE: 1>, three_of_a_kind_potential=<Potential.POSSIBLE: 1>, straight_potential=<Potential.POSSIBLE: 1>, flush_potential=<Potential.POSSIBLE: 1>, full_house_potential=<Potential.POSSIBLE: 1>, four_of_a_kind_potential=<Potential.POSSIBLE: 1>, straight_flush_potential=<Potential.POSSIBLE: 1>)]"
      ]
     },
     "execution_count": 23,
     "metadata": {},
     "output_type": "execute_result"
    }
   ],
   "source": [
    "environment.reset()"
   ]
  },
  {
   "cell_type": "code",
   "execution_count": 24,
   "metadata": {},
   "outputs": [
    {
     "name": "stdout",
     "output_type": "stream",
     "text": [
      "5♣, 3♠\n",
      "7♣, 4♣\n",
      "K♦, 9♥\n",
      "8♣, 5♠\n"
     ]
    }
   ],
   "source": [
    "for hand in environment.hands:\n",
    "    print(hand)"
   ]
  },
  {
   "cell_type": "code",
   "execution_count": 25,
   "metadata": {},
   "outputs": [
    {
     "data": {
      "text/plain": [
       "{'state': [HandFeatures(rank=<Rank.STRAIGHT: 4>, two_pair_potential=<Potential.POSSIBLE: 1>, three_of_a_kind_potential=<Potential.POSSIBLE: 1>, straight_potential=<Potential.HAS_RANK: 3>, flush_potential=<Potential.IMPOSSIBLE: 0>, full_house_potential=<Potential.IMPOSSIBLE: 0>, four_of_a_kind_potential=<Potential.IMPOSSIBLE: 0>, straight_flush_potential=<Potential.IMPOSSIBLE: 0>),\n",
       "  HandFeatures(rank=<Rank.TWO_PAIR: 2>, two_pair_potential=<Potential.HAS_RANK: 3>, three_of_a_kind_potential=<Potential.ONE_CARD_AWAY: 2>, straight_potential=<Potential.POSSIBLE: 1>, flush_potential=<Potential.IMPOSSIBLE: 0>, full_house_potential=<Potential.ONE_CARD_AWAY: 2>, four_of_a_kind_potential=<Potential.POSSIBLE: 1>, straight_flush_potential=<Potential.POSSIBLE: 1>),\n",
       "  HandFeatures(rank=<Rank.HIGH_CARD: 0>, two_pair_potential=<Potential.POSSIBLE: 1>, three_of_a_kind_potential=<Potential.POSSIBLE: 1>, straight_potential=<Potential.POSSIBLE: 1>, flush_potential=<Potential.IMPOSSIBLE: 0>, full_house_potential=<Potential.IMPOSSIBLE: 0>, four_of_a_kind_potential=<Potential.IMPOSSIBLE: 0>, straight_flush_potential=<Potential.IMPOSSIBLE: 0>),\n",
       "  HandFeatures(rank=<Rank.STRAIGHT: 4>, two_pair_potential=<Potential.POSSIBLE: 1>, three_of_a_kind_potential=<Potential.POSSIBLE: 1>, straight_potential=<Potential.HAS_RANK: 3>, flush_potential=<Potential.IMPOSSIBLE: 0>, full_house_potential=<Potential.IMPOSSIBLE: 0>, four_of_a_kind_potential=<Potential.IMPOSSIBLE: 0>, straight_flush_potential=<Potential.IMPOSSIBLE: 0>)],\n",
       " 'rewards': [0, 0, 0, 0],\n",
       " 'done': False}"
      ]
     },
     "execution_count": 25,
     "metadata": {},
     "output_type": "execute_result"
    }
   ],
   "source": [
    "environment.step([0, 0, 0, 0])"
   ]
  },
  {
   "cell_type": "code",
   "execution_count": 26,
   "metadata": {},
   "outputs": [
    {
     "name": "stdout",
     "output_type": "stream",
     "text": [
      "5♣, 3♠, 6♣, 7♦, 4♦\n",
      "7♣, 4♣, 6♣, 7♦, 4♦\n",
      "K♦, 9♥, 6♣, 7♦, 4♦\n",
      "8♣, 5♠, 6♣, 7♦, 4♦\n"
     ]
    }
   ],
   "source": [
    "for hand in environment.hands:\n",
    "    print(hand)"
   ]
  },
  {
   "cell_type": "code",
   "execution_count": 27,
   "metadata": {},
   "outputs": [
    {
     "data": {
      "text/plain": [
       "{'state': [HandFeatures(rank=<Rank.STRAIGHT: 4>, two_pair_potential=<Potential.IMPOSSIBLE: 0>, three_of_a_kind_potential=<Potential.IMPOSSIBLE: 0>, straight_potential=<Potential.HAS_RANK: 3>, flush_potential=<Potential.IMPOSSIBLE: 0>, full_house_potential=<Potential.IMPOSSIBLE: 0>, four_of_a_kind_potential=<Potential.IMPOSSIBLE: 0>, straight_flush_potential=<Potential.IMPOSSIBLE: 0>),\n",
       "  HandFeatures(rank=<Rank.TWO_PAIR: 2>, two_pair_potential=<Potential.HAS_RANK: 3>, three_of_a_kind_potential=<Potential.ONE_CARD_AWAY: 2>, straight_potential=<Potential.IMPOSSIBLE: 0>, flush_potential=<Potential.IMPOSSIBLE: 0>, full_house_potential=<Potential.ONE_CARD_AWAY: 2>, four_of_a_kind_potential=<Potential.IMPOSSIBLE: 0>, straight_flush_potential=<Potential.IMPOSSIBLE: 0>),\n",
       "  HandFeatures(rank=<Rank.HIGH_CARD: 0>, two_pair_potential=<Potential.IMPOSSIBLE: 0>, three_of_a_kind_potential=<Potential.IMPOSSIBLE: 0>, straight_potential=<Potential.IMPOSSIBLE: 0>, flush_potential=<Potential.IMPOSSIBLE: 0>, full_house_potential=<Potential.IMPOSSIBLE: 0>, four_of_a_kind_potential=<Potential.IMPOSSIBLE: 0>, straight_flush_potential=<Potential.IMPOSSIBLE: 0>),\n",
       "  HandFeatures(rank=<Rank.STRAIGHT: 4>, two_pair_potential=<Potential.IMPOSSIBLE: 0>, three_of_a_kind_potential=<Potential.IMPOSSIBLE: 0>, straight_potential=<Potential.HAS_RANK: 3>, flush_potential=<Potential.IMPOSSIBLE: 0>, full_house_potential=<Potential.IMPOSSIBLE: 0>, four_of_a_kind_potential=<Potential.IMPOSSIBLE: 0>, straight_flush_potential=<Potential.IMPOSSIBLE: 0>)],\n",
       " 'rewards': [0, 0, 0, 0],\n",
       " 'done': False}"
      ]
     },
     "execution_count": 27,
     "metadata": {},
     "output_type": "execute_result"
    }
   ],
   "source": [
    "environment.step([0, 0, 0, 0])"
   ]
  },
  {
   "cell_type": "code",
   "execution_count": 28,
   "metadata": {},
   "outputs": [
    {
     "name": "stdout",
     "output_type": "stream",
     "text": [
      "5♣, 3♠, 6♣, 7♦, 4♦, Q♣\n",
      "7♣, 4♣, 6♣, 7♦, 4♦, Q♣\n",
      "K♦, 9♥, 6♣, 7♦, 4♦, Q♣\n",
      "8♣, 5♠, 6♣, 7♦, 4♦, Q♣\n"
     ]
    }
   ],
   "source": [
    "for hand in environment.hands:\n",
    "    print(hand)"
   ]
  },
  {
   "cell_type": "code",
   "execution_count": 29,
   "metadata": {},
   "outputs": [
    {
     "data": {
      "text/plain": [
       "{'state': [HandFeatures(rank=<Rank.STRAIGHT: 4>, two_pair_potential=<Potential.IMPOSSIBLE: 0>, three_of_a_kind_potential=<Potential.IMPOSSIBLE: 0>, straight_potential=<Potential.HAS_RANK: 3>, flush_potential=<Potential.IMPOSSIBLE: 0>, full_house_potential=<Potential.IMPOSSIBLE: 0>, four_of_a_kind_potential=<Potential.IMPOSSIBLE: 0>, straight_flush_potential=<Potential.IMPOSSIBLE: 0>),\n",
       "  HandFeatures(rank=<Rank.FULL_HOUSE: 6>, two_pair_potential=<Potential.HAS_RANK: 3>, three_of_a_kind_potential=<Potential.HAS_RANK: 3>, straight_potential=<Potential.IMPOSSIBLE: 0>, flush_potential=<Potential.IMPOSSIBLE: 0>, full_house_potential=<Potential.HAS_RANK: 3>, four_of_a_kind_potential=<Potential.IMPOSSIBLE: 0>, straight_flush_potential=<Potential.IMPOSSIBLE: 0>),\n",
       "  HandFeatures(rank=<Rank.ONE_PAIR: 1>, two_pair_potential=<Potential.IMPOSSIBLE: 0>, three_of_a_kind_potential=<Potential.IMPOSSIBLE: 0>, straight_potential=<Potential.IMPOSSIBLE: 0>, flush_potential=<Potential.IMPOSSIBLE: 0>, full_house_potential=<Potential.IMPOSSIBLE: 0>, four_of_a_kind_potential=<Potential.IMPOSSIBLE: 0>, straight_flush_potential=<Potential.IMPOSSIBLE: 0>),\n",
       "  HandFeatures(rank=<Rank.STRAIGHT: 4>, two_pair_potential=<Potential.IMPOSSIBLE: 0>, three_of_a_kind_potential=<Potential.IMPOSSIBLE: 0>, straight_potential=<Potential.HAS_RANK: 3>, flush_potential=<Potential.IMPOSSIBLE: 0>, full_house_potential=<Potential.IMPOSSIBLE: 0>, four_of_a_kind_potential=<Potential.IMPOSSIBLE: 0>, straight_flush_potential=<Potential.IMPOSSIBLE: 0>)],\n",
       " 'rewards': [0, 0, 0, 0],\n",
       " 'done': True}"
      ]
     },
     "execution_count": 29,
     "metadata": {},
     "output_type": "execute_result"
    }
   ],
   "source": [
    "environment.step([0, 0, 0, 0])"
   ]
  },
  {
   "cell_type": "code",
   "execution_count": 30,
   "metadata": {},
   "outputs": [
    {
     "name": "stdout",
     "output_type": "stream",
     "text": [
      "5♣, 3♠, 6♣, 7♦, 4♦, Q♣, 4♠\n",
      "7♣, 4♣, 6♣, 7♦, 4♦, Q♣, 4♠\n",
      "K♦, 9♥, 6♣, 7♦, 4♦, Q♣, 4♠\n",
      "8♣, 5♠, 6♣, 7♦, 4♦, Q♣, 4♠\n"
     ]
    }
   ],
   "source": [
    "for hand in environment.hands:\n",
    "    print(hand)"
   ]
  }
 ],
 "metadata": {
  "kernelspec": {
   "display_name": "battleship",
   "language": "python",
   "name": "python3"
  },
  "language_info": {
   "codemirror_mode": {
    "name": "ipython",
    "version": 3
   },
   "file_extension": ".py",
   "mimetype": "text/x-python",
   "name": "python",
   "nbconvert_exporter": "python",
   "pygments_lexer": "ipython3",
   "version": "3.12.7"
  }
 },
 "nbformat": 4,
 "nbformat_minor": 2
}
