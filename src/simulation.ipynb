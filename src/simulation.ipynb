{
 "cells": [
  {
   "cell_type": "code",
   "execution_count": 1,
   "metadata": {},
   "outputs": [],
   "source": [
    "from game import TheGang"
   ]
  },
  {
   "cell_type": "code",
   "execution_count": 2,
   "metadata": {},
   "outputs": [],
   "source": [
    "environment = TheGang()"
   ]
  },
  {
   "cell_type": "code",
   "execution_count": 3,
   "metadata": {},
   "outputs": [
    {
     "name": "stdout",
     "output_type": "stream",
     "text": [
      "[Card(value=3, suit=1), Card(value=13, suit=1)]\n",
      "Rank.HIGH_CARD\n",
      "None\n"
     ]
    },
    {
     "ename": "TypeError",
     "evalue": "'NoneType' object is not subscriptable",
     "output_type": "error",
     "traceback": [
      "\u001b[1;31m---------------------------------------------------------------------------\u001b[0m",
      "\u001b[1;31mTypeError\u001b[0m                                 Traceback (most recent call last)",
      "Cell \u001b[1;32mIn[3], line 1\u001b[0m\n\u001b[1;32m----> 1\u001b[0m \u001b[43menvironment\u001b[49m\u001b[38;5;241;43m.\u001b[39;49m\u001b[43mreset\u001b[49m\u001b[43m(\u001b[49m\u001b[43m)\u001b[49m\n",
      "File \u001b[1;32mc:\\Dev\\The-Gang-Bot\\src\\game.py:25\u001b[0m, in \u001b[0;36mTheGang.reset\u001b[1;34m(self)\u001b[0m\n\u001b[0;32m     23\u001b[0m \u001b[38;5;28;01mfor\u001b[39;00m _ \u001b[38;5;129;01min\u001b[39;00m \u001b[38;5;28mrange\u001b[39m(\u001b[38;5;241m2\u001b[39m): \u001b[38;5;66;03m# Deal 2 cards to each player\u001b[39;00m\n\u001b[0;32m     24\u001b[0m     \u001b[38;5;28;01mfor\u001b[39;00m hand \u001b[38;5;129;01min\u001b[39;00m \u001b[38;5;28mself\u001b[39m\u001b[38;5;241m.\u001b[39mhands:\n\u001b[1;32m---> 25\u001b[0m         \u001b[43mhand\u001b[49m\u001b[38;5;241;43m.\u001b[39;49m\u001b[43madd_card\u001b[49m\u001b[43m(\u001b[49m\u001b[38;5;28;43mself\u001b[39;49m\u001b[38;5;241;43m.\u001b[39;49m\u001b[43mdeck\u001b[49m\u001b[38;5;241;43m.\u001b[39;49m\u001b[43mdraw\u001b[49m\u001b[43m(\u001b[49m\u001b[43m)\u001b[49m\u001b[43m)\u001b[49m\n\u001b[0;32m     27\u001b[0m \u001b[38;5;28;01mreturn\u001b[39;00m [hand\u001b[38;5;241m.\u001b[39mfeatures \u001b[38;5;28;01mfor\u001b[39;00m hand \u001b[38;5;129;01min\u001b[39;00m \u001b[38;5;28mself\u001b[39m\u001b[38;5;241m.\u001b[39mhands]\n",
      "File \u001b[1;32mc:\\Dev\\The-Gang-Bot\\src\\hand.py:318\u001b[0m, in \u001b[0;36mHand.add_card\u001b[1;34m(self, card)\u001b[0m\n\u001b[0;32m    316\u001b[0m \u001b[38;5;28mself\u001b[39m\u001b[38;5;241m.\u001b[39mcards\u001b[38;5;241m.\u001b[39mappend(card)\n\u001b[0;32m    317\u001b[0m \u001b[38;5;28;01mif\u001b[39;00m \u001b[38;5;28mlen\u001b[39m(\u001b[38;5;28mself\u001b[39m\u001b[38;5;241m.\u001b[39mcards) \u001b[38;5;241m>\u001b[39m \u001b[38;5;241m1\u001b[39m:\n\u001b[1;32m--> 318\u001b[0m     \u001b[38;5;28;43mself\u001b[39;49m\u001b[38;5;241;43m.\u001b[39;49m\u001b[43mrecalculate_hand_features\u001b[49m\u001b[43m(\u001b[49m\u001b[43m)\u001b[49m\n",
      "File \u001b[1;32mc:\\Dev\\The-Gang-Bot\\src\\hand.py:79\u001b[0m, in \u001b[0;36mHand.recalculate_hand_features\u001b[1;34m(self)\u001b[0m\n\u001b[0;32m     77\u001b[0m \u001b[38;5;28mprint\u001b[39m(hand)\n\u001b[0;32m     78\u001b[0m \u001b[38;5;28mself\u001b[39m\u001b[38;5;241m.\u001b[39mfeatures\u001b[38;5;241m.\u001b[39mrank \u001b[38;5;241m=\u001b[39m rank\n\u001b[1;32m---> 79\u001b[0m \u001b[38;5;28mself\u001b[39m\u001b[38;5;241m.\u001b[39mfeatures\u001b[38;5;241m.\u001b[39mfirst_card \u001b[38;5;241m=\u001b[39m \u001b[43mhand\u001b[49m\u001b[43m[\u001b[49m\u001b[38;5;241;43m0\u001b[39;49m\u001b[43m]\u001b[49m\n\u001b[0;32m     80\u001b[0m \u001b[38;5;28mself\u001b[39m\u001b[38;5;241m.\u001b[39mfeatures\u001b[38;5;241m.\u001b[39msecond_card \u001b[38;5;241m=\u001b[39m hand[\u001b[38;5;241m1\u001b[39m]\n\u001b[0;32m     81\u001b[0m \u001b[38;5;28mself\u001b[39m\u001b[38;5;241m.\u001b[39mfeatures\u001b[38;5;241m.\u001b[39mthird_card \u001b[38;5;241m=\u001b[39m hand[\u001b[38;5;241m2\u001b[39m]\n",
      "\u001b[1;31mTypeError\u001b[0m: 'NoneType' object is not subscriptable"
     ]
    }
   ],
   "source": [
    "environment.reset()"
   ]
  },
  {
   "cell_type": "code",
   "execution_count": null,
   "metadata": {},
   "outputs": [
    {
     "name": "stdout",
     "output_type": "stream",
     "text": [
      "5♣, 3♠\n",
      "7♣, 4♣\n",
      "K♦, 9♥\n",
      "8♣, 5♠\n"
     ]
    }
   ],
   "source": [
    "for hand in environment.hands:\n",
    "    print(hand)"
   ]
  },
  {
   "cell_type": "code",
   "execution_count": null,
   "metadata": {},
   "outputs": [
    {
     "data": {
      "text/plain": [
       "{'state': [HandFeatures(rank=<Rank.STRAIGHT: 4>, two_pair_potential=<Potential.POSSIBLE: 1>, three_of_a_kind_potential=<Potential.POSSIBLE: 1>, straight_potential=<Potential.HAS_RANK: 3>, flush_potential=<Potential.IMPOSSIBLE: 0>, full_house_potential=<Potential.IMPOSSIBLE: 0>, four_of_a_kind_potential=<Potential.IMPOSSIBLE: 0>, straight_flush_potential=<Potential.IMPOSSIBLE: 0>),\n",
       "  HandFeatures(rank=<Rank.TWO_PAIR: 2>, two_pair_potential=<Potential.HAS_RANK: 3>, three_of_a_kind_potential=<Potential.ONE_CARD_AWAY: 2>, straight_potential=<Potential.POSSIBLE: 1>, flush_potential=<Potential.IMPOSSIBLE: 0>, full_house_potential=<Potential.ONE_CARD_AWAY: 2>, four_of_a_kind_potential=<Potential.POSSIBLE: 1>, straight_flush_potential=<Potential.POSSIBLE: 1>),\n",
       "  HandFeatures(rank=<Rank.HIGH_CARD: 0>, two_pair_potential=<Potential.POSSIBLE: 1>, three_of_a_kind_potential=<Potential.POSSIBLE: 1>, straight_potential=<Potential.POSSIBLE: 1>, flush_potential=<Potential.IMPOSSIBLE: 0>, full_house_potential=<Potential.IMPOSSIBLE: 0>, four_of_a_kind_potential=<Potential.IMPOSSIBLE: 0>, straight_flush_potential=<Potential.IMPOSSIBLE: 0>),\n",
       "  HandFeatures(rank=<Rank.STRAIGHT: 4>, two_pair_potential=<Potential.POSSIBLE: 1>, three_of_a_kind_potential=<Potential.POSSIBLE: 1>, straight_potential=<Potential.HAS_RANK: 3>, flush_potential=<Potential.IMPOSSIBLE: 0>, full_house_potential=<Potential.IMPOSSIBLE: 0>, four_of_a_kind_potential=<Potential.IMPOSSIBLE: 0>, straight_flush_potential=<Potential.IMPOSSIBLE: 0>)],\n",
       " 'rewards': [0, 0, 0, 0],\n",
       " 'done': False}"
      ]
     },
     "execution_count": 25,
     "metadata": {},
     "output_type": "execute_result"
    }
   ],
   "source": [
    "environment.step([0, 0, 0, 0])"
   ]
  },
  {
   "cell_type": "code",
   "execution_count": null,
   "metadata": {},
   "outputs": [
    {
     "name": "stdout",
     "output_type": "stream",
     "text": [
      "5♣, 3♠, 6♣, 7♦, 4♦\n",
      "7♣, 4♣, 6♣, 7♦, 4♦\n",
      "K♦, 9♥, 6♣, 7♦, 4♦\n",
      "8♣, 5♠, 6♣, 7♦, 4♦\n"
     ]
    }
   ],
   "source": [
    "for hand in environment.hands:\n",
    "    print(hand)"
   ]
  },
  {
   "cell_type": "code",
   "execution_count": null,
   "metadata": {},
   "outputs": [
    {
     "data": {
      "text/plain": [
       "{'state': [HandFeatures(rank=<Rank.STRAIGHT: 4>, two_pair_potential=<Potential.IMPOSSIBLE: 0>, three_of_a_kind_potential=<Potential.IMPOSSIBLE: 0>, straight_potential=<Potential.HAS_RANK: 3>, flush_potential=<Potential.IMPOSSIBLE: 0>, full_house_potential=<Potential.IMPOSSIBLE: 0>, four_of_a_kind_potential=<Potential.IMPOSSIBLE: 0>, straight_flush_potential=<Potential.IMPOSSIBLE: 0>),\n",
       "  HandFeatures(rank=<Rank.TWO_PAIR: 2>, two_pair_potential=<Potential.HAS_RANK: 3>, three_of_a_kind_potential=<Potential.ONE_CARD_AWAY: 2>, straight_potential=<Potential.IMPOSSIBLE: 0>, flush_potential=<Potential.IMPOSSIBLE: 0>, full_house_potential=<Potential.ONE_CARD_AWAY: 2>, four_of_a_kind_potential=<Potential.IMPOSSIBLE: 0>, straight_flush_potential=<Potential.IMPOSSIBLE: 0>),\n",
       "  HandFeatures(rank=<Rank.HIGH_CARD: 0>, two_pair_potential=<Potential.IMPOSSIBLE: 0>, three_of_a_kind_potential=<Potential.IMPOSSIBLE: 0>, straight_potential=<Potential.IMPOSSIBLE: 0>, flush_potential=<Potential.IMPOSSIBLE: 0>, full_house_potential=<Potential.IMPOSSIBLE: 0>, four_of_a_kind_potential=<Potential.IMPOSSIBLE: 0>, straight_flush_potential=<Potential.IMPOSSIBLE: 0>),\n",
       "  HandFeatures(rank=<Rank.STRAIGHT: 4>, two_pair_potential=<Potential.IMPOSSIBLE: 0>, three_of_a_kind_potential=<Potential.IMPOSSIBLE: 0>, straight_potential=<Potential.HAS_RANK: 3>, flush_potential=<Potential.IMPOSSIBLE: 0>, full_house_potential=<Potential.IMPOSSIBLE: 0>, four_of_a_kind_potential=<Potential.IMPOSSIBLE: 0>, straight_flush_potential=<Potential.IMPOSSIBLE: 0>)],\n",
       " 'rewards': [0, 0, 0, 0],\n",
       " 'done': False}"
      ]
     },
     "execution_count": 27,
     "metadata": {},
     "output_type": "execute_result"
    }
   ],
   "source": [
    "environment.step([0, 0, 0, 0])"
   ]
  },
  {
   "cell_type": "code",
   "execution_count": null,
   "metadata": {},
   "outputs": [
    {
     "name": "stdout",
     "output_type": "stream",
     "text": [
      "5♣, 3♠, 6♣, 7♦, 4♦, Q♣\n",
      "7♣, 4♣, 6♣, 7♦, 4♦, Q♣\n",
      "K♦, 9♥, 6♣, 7♦, 4♦, Q♣\n",
      "8♣, 5♠, 6♣, 7♦, 4♦, Q♣\n"
     ]
    }
   ],
   "source": [
    "for hand in environment.hands:\n",
    "    print(hand)"
   ]
  },
  {
   "cell_type": "code",
   "execution_count": null,
   "metadata": {},
   "outputs": [
    {
     "data": {
      "text/plain": [
       "{'state': [HandFeatures(rank=<Rank.STRAIGHT: 4>, two_pair_potential=<Potential.IMPOSSIBLE: 0>, three_of_a_kind_potential=<Potential.IMPOSSIBLE: 0>, straight_potential=<Potential.HAS_RANK: 3>, flush_potential=<Potential.IMPOSSIBLE: 0>, full_house_potential=<Potential.IMPOSSIBLE: 0>, four_of_a_kind_potential=<Potential.IMPOSSIBLE: 0>, straight_flush_potential=<Potential.IMPOSSIBLE: 0>),\n",
       "  HandFeatures(rank=<Rank.FULL_HOUSE: 6>, two_pair_potential=<Potential.HAS_RANK: 3>, three_of_a_kind_potential=<Potential.HAS_RANK: 3>, straight_potential=<Potential.IMPOSSIBLE: 0>, flush_potential=<Potential.IMPOSSIBLE: 0>, full_house_potential=<Potential.HAS_RANK: 3>, four_of_a_kind_potential=<Potential.IMPOSSIBLE: 0>, straight_flush_potential=<Potential.IMPOSSIBLE: 0>),\n",
       "  HandFeatures(rank=<Rank.ONE_PAIR: 1>, two_pair_potential=<Potential.IMPOSSIBLE: 0>, three_of_a_kind_potential=<Potential.IMPOSSIBLE: 0>, straight_potential=<Potential.IMPOSSIBLE: 0>, flush_potential=<Potential.IMPOSSIBLE: 0>, full_house_potential=<Potential.IMPOSSIBLE: 0>, four_of_a_kind_potential=<Potential.IMPOSSIBLE: 0>, straight_flush_potential=<Potential.IMPOSSIBLE: 0>),\n",
       "  HandFeatures(rank=<Rank.STRAIGHT: 4>, two_pair_potential=<Potential.IMPOSSIBLE: 0>, three_of_a_kind_potential=<Potential.IMPOSSIBLE: 0>, straight_potential=<Potential.HAS_RANK: 3>, flush_potential=<Potential.IMPOSSIBLE: 0>, full_house_potential=<Potential.IMPOSSIBLE: 0>, four_of_a_kind_potential=<Potential.IMPOSSIBLE: 0>, straight_flush_potential=<Potential.IMPOSSIBLE: 0>)],\n",
       " 'rewards': [0, 0, 0, 0],\n",
       " 'done': True}"
      ]
     },
     "execution_count": 29,
     "metadata": {},
     "output_type": "execute_result"
    }
   ],
   "source": [
    "environment.step([0, 0, 0, 0])"
   ]
  },
  {
   "cell_type": "code",
   "execution_count": null,
   "metadata": {},
   "outputs": [
    {
     "name": "stdout",
     "output_type": "stream",
     "text": [
      "5♣, 3♠, 6♣, 7♦, 4♦, Q♣, 4♠\n",
      "7♣, 4♣, 6♣, 7♦, 4♦, Q♣, 4♠\n",
      "K♦, 9♥, 6♣, 7♦, 4♦, Q♣, 4♠\n",
      "8♣, 5♠, 6♣, 7♦, 4♦, Q♣, 4♠\n"
     ]
    }
   ],
   "source": [
    "for hand in environment.hands:\n",
    "    print(hand)"
   ]
  }
 ],
 "metadata": {
  "kernelspec": {
   "display_name": "Python 3",
   "language": "python",
   "name": "python3"
  },
  "language_info": {
   "codemirror_mode": {
    "name": "ipython",
    "version": 3
   },
   "file_extension": ".py",
   "mimetype": "text/x-python",
   "name": "python",
   "nbconvert_exporter": "python",
   "pygments_lexer": "ipython3",
   "version": "3.12.3"
  }
 },
 "nbformat": 4,
 "nbformat_minor": 2
}
