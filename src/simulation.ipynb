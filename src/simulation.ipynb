{
 "cells": [
  {
   "cell_type": "code",
   "execution_count": 1,
   "metadata": {},
   "outputs": [],
   "source": [
    "from game import TheGang"
   ]
  },
  {
   "cell_type": "code",
   "execution_count": 2,
   "metadata": {},
   "outputs": [],
   "source": [
    "environment = TheGang()"
   ]
  },
  {
   "cell_type": "code",
   "execution_count": 3,
   "metadata": {},
   "outputs": [
    {
     "data": {
      "text/plain": [
       "[HandFeatures(rank=<Rank.HIGH_CARD: 0>, first_card=3, second_card=2, third_card=0, fourth_card=0, fifth_card=0, two_pair_potential=<Potential.POSSIBLE: 1>, three_of_a_kind_potential=(<Potential.POSSIBLE: 1>, None), straight_potential=<Potential.POSSIBLE: 1>, flush_potential=<Potential.POSSIBLE: 1>, full_house_potential=(<Potential.POSSIBLE: 1>, None), four_of_a_kind_potential=(<Potential.POSSIBLE: 1>, None), straight_flush_potential=<Potential.POSSIBLE: 1>),\n",
       " HandFeatures(rank=<Rank.HIGH_CARD: 0>, first_card=12, second_card=2, third_card=0, fourth_card=0, fifth_card=0, two_pair_potential=<Potential.POSSIBLE: 1>, three_of_a_kind_potential=(<Potential.POSSIBLE: 1>, None), straight_potential=<Potential.POSSIBLE: 1>, flush_potential=<Potential.POSSIBLE: 1>, full_house_potential=(<Potential.POSSIBLE: 1>, None), four_of_a_kind_potential=(<Potential.POSSIBLE: 1>, None), straight_flush_potential=<Potential.POSSIBLE: 1>),\n",
       " HandFeatures(rank=<Rank.HIGH_CARD: 0>, first_card=6, second_card=4, third_card=0, fourth_card=0, fifth_card=0, two_pair_potential=<Potential.POSSIBLE: 1>, three_of_a_kind_potential=(<Potential.POSSIBLE: 1>, None), straight_potential=<Potential.POSSIBLE: 1>, flush_potential=<Potential.POSSIBLE: 1>, full_house_potential=(<Potential.POSSIBLE: 1>, None), four_of_a_kind_potential=(<Potential.POSSIBLE: 1>, None), straight_flush_potential=<Potential.POSSIBLE: 1>),\n",
       " HandFeatures(rank=<Rank.HIGH_CARD: 0>, first_card=7, second_card=4, third_card=0, fourth_card=0, fifth_card=0, two_pair_potential=<Potential.POSSIBLE: 1>, three_of_a_kind_potential=(<Potential.POSSIBLE: 1>, None), straight_potential=<Potential.POSSIBLE: 1>, flush_potential=<Potential.POSSIBLE: 1>, full_house_potential=(<Potential.POSSIBLE: 1>, None), four_of_a_kind_potential=(<Potential.POSSIBLE: 1>, None), straight_flush_potential=<Potential.POSSIBLE: 1>)]"
      ]
     },
     "execution_count": 3,
     "metadata": {},
     "output_type": "execute_result"
    }
   ],
   "source": [
    "environment.reset()"
   ]
  },
  {
   "cell_type": "code",
   "execution_count": 4,
   "metadata": {},
   "outputs": [
    {
     "name": "stdout",
     "output_type": "stream",
     "text": [
      "3♣, 2♦\n",
      "2♥, Q♠\n",
      "4♥, 6♥\n",
      "4♠, 7♥\n"
     ]
    }
   ],
   "source": [
    "for hand in environment.hands:\n",
    "    print(hand)"
   ]
  },
  {
   "cell_type": "code",
   "execution_count": 5,
   "metadata": {},
   "outputs": [
    {
     "data": {
      "text/plain": [
       "{'state': [HandFeatures(rank=<Rank.HIGH_CARD: 0>, first_card=10, second_card=6, third_card=4, fourth_card=3, fifth_card=2, two_pair_potential=<Potential.POSSIBLE: 1>, three_of_a_kind_potential=(<Potential.POSSIBLE: 1>, None), straight_potential=<Potential.ONE_CARD_AWAY: 2>, flush_potential=<Potential.POSSIBLE: 1>, full_house_potential=(<Potential.IMPOSSIBLE: 0>, None), four_of_a_kind_potential=(<Potential.IMPOSSIBLE: 0>, None), straight_flush_potential=<Potential.POSSIBLE: 1>),\n",
       "  HandFeatures(rank=<Rank.HIGH_CARD: 0>, first_card=12, second_card=10, third_card=6, fourth_card=4, fifth_card=2, two_pair_potential=<Potential.POSSIBLE: 1>, three_of_a_kind_potential=(<Potential.POSSIBLE: 1>, None), straight_potential=<Potential.POSSIBLE: 1>, flush_potential=<Potential.IMPOSSIBLE: 0>, full_house_potential=(<Potential.IMPOSSIBLE: 0>, None), four_of_a_kind_potential=(<Potential.IMPOSSIBLE: 0>, None), straight_flush_potential=<Potential.IMPOSSIBLE: 0>),\n",
       "  HandFeatures(rank=<Rank.TWO_PAIR: 2>, first_card=6, second_card=6, third_card=4, fourth_card=4, fifth_card=10, two_pair_potential=<Potential.HAS_RANK: 3>, three_of_a_kind_potential=(<Potential.ONE_CARD_AWAY: 2>, None), straight_potential=<Potential.IMPOSSIBLE: 0>, flush_potential=<Potential.IMPOSSIBLE: 0>, full_house_potential=(<Potential.ONE_CARD_AWAY: 2>, None), four_of_a_kind_potential=(<Potential.POSSIBLE: 1>, None), straight_flush_potential=<Potential.IMPOSSIBLE: 0>),\n",
       "  HandFeatures(rank=<Rank.ONE_PAIR: 1>, first_card=4, second_card=4, third_card=10, fourth_card=7, fifth_card=6, two_pair_potential=<Potential.ONE_CARD_AWAY: 2>, three_of_a_kind_potential=(<Potential.ONE_CARD_AWAY: 2>, None), straight_potential=<Potential.POSSIBLE: 1>, flush_potential=<Potential.IMPOSSIBLE: 0>, full_house_potential=(<Potential.POSSIBLE: 1>, None), four_of_a_kind_potential=(<Potential.POSSIBLE: 1>, None), straight_flush_potential=<Potential.IMPOSSIBLE: 0>)],\n",
       " 'rewards': [50, 10, 25, 25],\n",
       " 'done': False}"
      ]
     },
     "execution_count": 5,
     "metadata": {},
     "output_type": "execute_result"
    }
   ],
   "source": [
    "environment.step([1, 2, 3, 4])"
   ]
  },
  {
   "cell_type": "code",
   "execution_count": 6,
   "metadata": {},
   "outputs": [
    {
     "name": "stdout",
     "output_type": "stream",
     "text": [
      "3♣, 2♦, T♠, 4♣, 6♣\n",
      "2♥, Q♠, T♠, 4♣, 6♣\n",
      "4♥, 6♥, T♠, 4♣, 6♣\n",
      "4♠, 7♥, T♠, 4♣, 6♣\n"
     ]
    }
   ],
   "source": [
    "for hand in environment.hands:\n",
    "    print(hand)"
   ]
  },
  {
   "cell_type": "code",
   "execution_count": 7,
   "metadata": {},
   "outputs": [
    {
     "data": {
      "text/plain": [
       "{'state': [HandFeatures(rank=<Rank.HIGH_CARD: 0>, first_card=14, second_card=10, third_card=6, fourth_card=4, fifth_card=3, two_pair_potential=<Potential.IMPOSSIBLE: 0>, three_of_a_kind_potential=(<Potential.IMPOSSIBLE: 0>, None), straight_potential=<Potential.ONE_CARD_AWAY: 2>, flush_potential=<Potential.IMPOSSIBLE: 0>, full_house_potential=(<Potential.IMPOSSIBLE: 0>, None), four_of_a_kind_potential=(<Potential.IMPOSSIBLE: 0>, None), straight_flush_potential=<Potential.IMPOSSIBLE: 0>),\n",
       "  HandFeatures(rank=<Rank.HIGH_CARD: 0>, first_card=14, second_card=12, third_card=10, fourth_card=6, fifth_card=4, two_pair_potential=<Potential.IMPOSSIBLE: 0>, three_of_a_kind_potential=(<Potential.IMPOSSIBLE: 0>, None), straight_potential=<Potential.IMPOSSIBLE: 0>, flush_potential=<Potential.IMPOSSIBLE: 0>, full_house_potential=(<Potential.IMPOSSIBLE: 0>, None), four_of_a_kind_potential=(<Potential.IMPOSSIBLE: 0>, None), straight_flush_potential=<Potential.IMPOSSIBLE: 0>),\n",
       "  HandFeatures(rank=<Rank.TWO_PAIR: 2>, first_card=6, second_card=6, third_card=4, fourth_card=4, fifth_card=14, two_pair_potential=<Potential.HAS_RANK: 3>, three_of_a_kind_potential=(<Potential.ONE_CARD_AWAY: 2>, None), straight_potential=<Potential.IMPOSSIBLE: 0>, flush_potential=<Potential.IMPOSSIBLE: 0>, full_house_potential=(<Potential.ONE_CARD_AWAY: 2>, None), four_of_a_kind_potential=(<Potential.IMPOSSIBLE: 0>, None), straight_flush_potential=<Potential.IMPOSSIBLE: 0>),\n",
       "  HandFeatures(rank=<Rank.ONE_PAIR: 1>, first_card=4, second_card=4, third_card=14, fourth_card=10, fifth_card=7, two_pair_potential=<Potential.ONE_CARD_AWAY: 2>, three_of_a_kind_potential=(<Potential.ONE_CARD_AWAY: 2>, None), straight_potential=<Potential.IMPOSSIBLE: 0>, flush_potential=<Potential.IMPOSSIBLE: 0>, full_house_potential=(<Potential.IMPOSSIBLE: 0>, None), four_of_a_kind_potential=(<Potential.IMPOSSIBLE: 0>, None), straight_flush_potential=<Potential.IMPOSSIBLE: 0>)],\n",
       " 'rewards': [50, 50, 25, 25],\n",
       " 'done': False}"
      ]
     },
     "execution_count": 7,
     "metadata": {},
     "output_type": "execute_result"
    }
   ],
   "source": [
    "environment.step([1, 2, 3, 4])"
   ]
  },
  {
   "cell_type": "code",
   "execution_count": 8,
   "metadata": {},
   "outputs": [
    {
     "name": "stdout",
     "output_type": "stream",
     "text": [
      "3♣, 2♦, T♠, 4♣, 6♣, A♦\n",
      "2♥, Q♠, T♠, 4♣, 6♣, A♦\n",
      "4♥, 6♥, T♠, 4♣, 6♣, A♦\n",
      "4♠, 7♥, T♠, 4♣, 6♣, A♦\n"
     ]
    }
   ],
   "source": [
    "for hand in environment.hands:\n",
    "    print(hand)"
   ]
  },
  {
   "cell_type": "code",
   "execution_count": 9,
   "metadata": {},
   "outputs": [
    {
     "data": {
      "text/plain": [
       "{'state': [HandFeatures(rank=<Rank.ONE_PAIR: 1>, first_card=14, second_card=14, third_card=10, fourth_card=6, fifth_card=4, two_pair_potential=<Potential.IMPOSSIBLE: 0>, three_of_a_kind_potential=(<Potential.IMPOSSIBLE: 0>, None), straight_potential=<Potential.IMPOSSIBLE: 0>, flush_potential=<Potential.IMPOSSIBLE: 0>, full_house_potential=(<Potential.IMPOSSIBLE: 0>, None), four_of_a_kind_potential=(<Potential.IMPOSSIBLE: 0>, None), straight_flush_potential=<Potential.IMPOSSIBLE: 0>),\n",
       "  HandFeatures(rank=<Rank.ONE_PAIR: 1>, first_card=14, second_card=14, third_card=12, fourth_card=10, fifth_card=6, two_pair_potential=<Potential.IMPOSSIBLE: 0>, three_of_a_kind_potential=(<Potential.IMPOSSIBLE: 0>, None), straight_potential=<Potential.IMPOSSIBLE: 0>, flush_potential=<Potential.IMPOSSIBLE: 0>, full_house_potential=(<Potential.IMPOSSIBLE: 0>, None), four_of_a_kind_potential=(<Potential.IMPOSSIBLE: 0>, None), straight_flush_potential=<Potential.IMPOSSIBLE: 0>),\n",
       "  HandFeatures(rank=<Rank.TWO_PAIR: 2>, first_card=14, second_card=14, third_card=6, fourth_card=6, fifth_card=10, two_pair_potential=<Potential.HAS_RANK: 3>, three_of_a_kind_potential=(<Potential.IMPOSSIBLE: 0>, None), straight_potential=<Potential.IMPOSSIBLE: 0>, flush_potential=<Potential.IMPOSSIBLE: 0>, full_house_potential=(<Potential.IMPOSSIBLE: 0>, None), four_of_a_kind_potential=(<Potential.IMPOSSIBLE: 0>, None), straight_flush_potential=<Potential.IMPOSSIBLE: 0>),\n",
       "  HandFeatures(rank=<Rank.TWO_PAIR: 2>, first_card=14, second_card=14, third_card=4, fourth_card=4, fifth_card=10, two_pair_potential=<Potential.HAS_RANK: 3>, three_of_a_kind_potential=(<Potential.IMPOSSIBLE: 0>, None), straight_potential=<Potential.IMPOSSIBLE: 0>, flush_potential=<Potential.IMPOSSIBLE: 0>, full_house_potential=(<Potential.IMPOSSIBLE: 0>, None), four_of_a_kind_potential=(<Potential.IMPOSSIBLE: 0>, None), straight_flush_potential=<Potential.IMPOSSIBLE: 0>)],\n",
       " 'rewards': [50, 50, 25, 25],\n",
       " 'done': False}"
      ]
     },
     "execution_count": 9,
     "metadata": {},
     "output_type": "execute_result"
    }
   ],
   "source": [
    "environment.step([1, 2, 3, 4])"
   ]
  },
  {
   "cell_type": "code",
   "execution_count": 10,
   "metadata": {},
   "outputs": [
    {
     "name": "stdout",
     "output_type": "stream",
     "text": [
      "3♣, 2♦, T♠, 4♣, 6♣, A♦, A♣\n",
      "2♥, Q♠, T♠, 4♣, 6♣, A♦, A♣\n",
      "4♥, 6♥, T♠, 4♣, 6♣, A♦, A♣\n",
      "4♠, 7♥, T♠, 4♣, 6♣, A♦, A♣\n"
     ]
    }
   ],
   "source": [
    "for hand in environment.hands:\n",
    "    print(hand)"
   ]
  },
  {
   "cell_type": "code",
   "execution_count": 11,
   "metadata": {},
   "outputs": [
    {
     "data": {
      "text/plain": [
       "{'state': [HandFeatures(rank=<Rank.ONE_PAIR: 1>, first_card=14, second_card=14, third_card=10, fourth_card=6, fifth_card=4, two_pair_potential=<Potential.IMPOSSIBLE: 0>, three_of_a_kind_potential=(<Potential.IMPOSSIBLE: 0>, None), straight_potential=<Potential.IMPOSSIBLE: 0>, flush_potential=<Potential.IMPOSSIBLE: 0>, full_house_potential=(<Potential.IMPOSSIBLE: 0>, None), four_of_a_kind_potential=(<Potential.IMPOSSIBLE: 0>, None), straight_flush_potential=<Potential.IMPOSSIBLE: 0>),\n",
       "  HandFeatures(rank=<Rank.ONE_PAIR: 1>, first_card=14, second_card=14, third_card=12, fourth_card=10, fifth_card=6, two_pair_potential=<Potential.IMPOSSIBLE: 0>, three_of_a_kind_potential=(<Potential.IMPOSSIBLE: 0>, None), straight_potential=<Potential.IMPOSSIBLE: 0>, flush_potential=<Potential.IMPOSSIBLE: 0>, full_house_potential=(<Potential.IMPOSSIBLE: 0>, None), four_of_a_kind_potential=(<Potential.IMPOSSIBLE: 0>, None), straight_flush_potential=<Potential.IMPOSSIBLE: 0>),\n",
       "  HandFeatures(rank=<Rank.TWO_PAIR: 2>, first_card=14, second_card=14, third_card=6, fourth_card=6, fifth_card=10, two_pair_potential=<Potential.HAS_RANK: 3>, three_of_a_kind_potential=(<Potential.IMPOSSIBLE: 0>, None), straight_potential=<Potential.IMPOSSIBLE: 0>, flush_potential=<Potential.IMPOSSIBLE: 0>, full_house_potential=(<Potential.IMPOSSIBLE: 0>, None), four_of_a_kind_potential=(<Potential.IMPOSSIBLE: 0>, None), straight_flush_potential=<Potential.IMPOSSIBLE: 0>),\n",
       "  HandFeatures(rank=<Rank.TWO_PAIR: 2>, first_card=14, second_card=14, third_card=4, fourth_card=4, fifth_card=10, two_pair_potential=<Potential.HAS_RANK: 3>, three_of_a_kind_potential=(<Potential.IMPOSSIBLE: 0>, None), straight_potential=<Potential.IMPOSSIBLE: 0>, flush_potential=<Potential.IMPOSSIBLE: 0>, full_house_potential=(<Potential.IMPOSSIBLE: 0>, None), four_of_a_kind_potential=(<Potential.IMPOSSIBLE: 0>, None), straight_flush_potential=<Potential.IMPOSSIBLE: 0>)],\n",
       " 'rewards': [50, 50, 25, 25],\n",
       " 'done': True}"
      ]
     },
     "execution_count": 11,
     "metadata": {},
     "output_type": "execute_result"
    }
   ],
   "source": [
    "environment.step([1, 2, 3, 4])"
   ]
  }
 ],
 "metadata": {
  "kernelspec": {
   "display_name": "Python 3",
   "language": "python",
   "name": "python3"
  },
  "language_info": {
   "codemirror_mode": {
    "name": "ipython",
    "version": 3
   },
   "file_extension": ".py",
   "mimetype": "text/x-python",
   "name": "python",
   "nbconvert_exporter": "python",
   "pygments_lexer": "ipython3",
   "version": "3.12.7"
  }
 },
 "nbformat": 4,
 "nbformat_minor": 2
}
