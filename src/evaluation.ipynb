{
 "cells": [
  {
   "cell_type": "code",
   "execution_count": 89,
   "metadata": {},
   "outputs": [],
   "source": [
    "#@@@@@@@@@@@@@@@@@@@@@@@\n",
    "#import useful libraries\n",
    "#@@@@@@@@@@@@@@@@@@@@@@@\n",
    "import pandas as pd\n",
    "import numpy as np\n",
    "import copy\n",
    "from scipy import interpolate\n",
    "from scipy.stats import truncnorm\n",
    "import pickle\n",
    "from tqdm import tqdm\n",
    "from matplotlib import pyplot as plt\n",
    "import seaborn as sns\n",
    "from pydantic import BaseModel\n",
    "import csv\n",
    "import os\n",
    "import torch\n",
    "import torch.nn as nn\n",
    "import torch.optim as optim\n",
    "from typing import List, Dict\n",
    "import time\n",
    "\n",
    "from game import TheGang\n",
    "from models import HandFeatures"
   ]
  },
  {
   "cell_type": "code",
   "execution_count": 90,
   "metadata": {},
   "outputs": [],
   "source": [
    "model_name = \"Baseline_2\"\n",
    "model_epoch_count = 40000"
   ]
  },
  {
   "cell_type": "code",
   "execution_count": 91,
   "metadata": {},
   "outputs": [
    {
     "name": "stdout",
     "output_type": "stream",
     "text": [
      "Using CPU\n"
     ]
    }
   ],
   "source": [
    "import torch\n",
    "\n",
    "# Check if a GPU is available\n",
    "if torch.cuda.is_available():\n",
    "    device = torch.device(\"cuda\")\n",
    "    print(\"Using GPU\")\n",
    "else:\n",
    "    device = torch.device(\"cpu\")\n",
    "    print(\"Using CPU\")"
   ]
  },
  {
   "cell_type": "code",
   "execution_count": 92,
   "metadata": {},
   "outputs": [],
   "source": [
    "#@@@@@@@@@@@@@@@@@@@@@@@@@@@@@@@@@@@@@@@@@@@@@\n",
    "class PolicyNetwork(nn.Module):\n",
    "    def __init__(self, input_size, hidden_layer_size, hidden_layer_count = 1):\n",
    "        super(PolicyNetwork, self).__init__()\n",
    "        self.hidden_layers = nn.ModuleList()\n",
    "        self.hidden_layers.append(nn.Linear(input_size, hidden_layer_size))\n",
    "        nn.init.normal_(self.hidden_layers[0].weight, mean = 0, std = 0.01)\n",
    "        nn.init.normal_(self.hidden_layers[0].bias, mean = 0, std = 0.01)\n",
    "        for _ in range(hidden_layer_count-1):\n",
    "            layer = nn.Linear(hidden_layer_size, hidden_layer_size)\n",
    "            self.hidden_layers.append(layer)\n",
    "            nn.init.normal_(layer.weight, mean = 0, std = 0.01)\n",
    "            nn.init.normal_(layer.bias, mean = 0, std = 0.01)\n",
    "        self.output_layer = nn.Linear(hidden_layer_size, 4)    #the output layer with probabiliy for each action\n",
    "        self.output_layer.bias = nn.Parameter(torch.tensor([0.0, 0.0, 0.0, 0.0])) \n",
    "\n",
    "    def forward(self, s: torch.Tensor) -> torch.Tensor:\n",
    "        '''A function to do the forward pass\n",
    "            Takes:\n",
    "                s -- the state representation\n",
    "            Returns:\n",
    "                a tensor of probabilities\n",
    "        '''         \n",
    "        s = s.to(next(self.parameters()).device)\n",
    "        for layer in self.hidden_layers:\n",
    "             s = torch.relu(layer(s))    #pass through the hidden layers\n",
    "        s = self.output_layer(s)\n",
    "        action_probs = torch.softmax(s, dim=1)    #use softmax to get action probabilities\n",
    "        return action_probs.to('cpu')\n"
   ]
  },
  {
   "cell_type": "code",
   "execution_count": 93,
   "metadata": {},
   "outputs": [],
   "source": [
    "class AgentConfig(BaseModel):\n",
    "    hidden_layer_size: int = 32\n",
    "    hidden_layer_count: int = 8\n",
    "    learning_rate: float = 0.0005\n",
    "\n",
    "class Agent():\n",
    "    def __init__(self, config: AgentConfig):\n",
    "        self.config = config\n",
    "        self.pi = PolicyNetwork(17, config.hidden_layer_size, config.hidden_layer_count).to(device)\n",
    "        self.optimizer = optim.Adam(self.pi.parameters(), lr=self.config.learning_rate)\n",
    "\n",
    "    def generate_actions(self, state_array: List[List[int]]):\n",
    "        action_probs = self.pi(torch.tensor(state_array, dtype=torch.float32)) # Create tensor and feed state through model\n",
    "        sampled_actions = torch.multinomial(action_probs, 1).squeeze(dim=1)\n",
    "        action_space = torch.tensor([1, 2, 3, 4])\n",
    "        final_actions = action_space[sampled_actions]\n",
    "        return final_actions\n",
    "\n",
    "    def generate_actions_with_probs(self, state_array: List[List[int]]):\n",
    "        action_probs = self.pi(torch.tensor(state_array, dtype=torch.float32)) # Create tensor and feed state through model\n",
    "        sampled_actions = torch.multinomial(action_probs, 1).squeeze(dim=1)\n",
    "        action_space = torch.tensor([1, 2, 3, 4])\n",
    "        final_actions = action_space[sampled_actions]\n",
    "        return final_actions, action_probs\n",
    "\n",
    "    def generate_action_probs(self, a: List[int], state_array: List[List[int]]):\n",
    "        all_action_probs = self.pi(torch.tensor(state_array, dtype=torch.float32)) # Create tensor and feed state through model\n",
    "        a_tensor = torch.tensor(a, dtype=torch.long)\n",
    "        a_tensor = a_tensor - 1\n",
    "        performed_action_probs = all_action_probs.gather(1, a_tensor.unsqueeze(1)).squeeze(1)\n",
    "        log_probs = torch.log(performed_action_probs)\n",
    "        return log_probs\n",
    "\n",
    "    def checkpoint(self, model_name, epoch_count: int):\n",
    "        directory = f'checkpoints/{model_name}'\n",
    "        os.makedirs(directory, exist_ok=True)\n",
    "        torch.save(self.pi.state_dict(), f'{directory}/epi_{epoch_count}.pth')\n",
    "        \n",
    "    def load_checkpoint(self, model_name: str, epoch_count: int):\n",
    "        self.pi.load_state_dict(torch.load(f'checkpoints/{model_name}/epi_{epoch_count}.pth', map_location=device))\n"
   ]
  },
  {
   "cell_type": "code",
   "execution_count": 94,
   "metadata": {},
   "outputs": [
    {
     "name": "stderr",
     "output_type": "stream",
     "text": [
      "C:\\Users\\Josh\\AppData\\Local\\Temp\\ipykernel_14416\\2630794727.py:40: FutureWarning: You are using `torch.load` with `weights_only=False` (the current default value), which uses the default pickle module implicitly. It is possible to construct malicious pickle data which will execute arbitrary code during unpickling (See https://github.com/pytorch/pytorch/blob/main/SECURITY.md#untrusted-models for more details). In a future release, the default value for `weights_only` will be flipped to `True`. This limits the functions that could be executed during unpickling. Arbitrary objects will no longer be allowed to be loaded via this mode unless they are explicitly allowlisted by the user via `torch.serialization.add_safe_globals`. We recommend you start setting `weights_only=True` for any use case where you don't have full control of the loaded file. Please open an issue on GitHub for any issues related to this experimental feature.\n",
      "  self.pi.load_state_dict(torch.load(f'checkpoints/{model_name}/epi_{epoch_count}.pth', map_location=device))\n"
     ]
    }
   ],
   "source": [
    "agent_config = AgentConfig()\n",
    "agent = Agent(agent_config)\n",
    "agent.load_checkpoint(model_name, model_epoch_count)\n",
    "env = TheGang()"
   ]
  },
  {
   "cell_type": "code",
   "execution_count": 95,
   "metadata": {},
   "outputs": [],
   "source": [
    "def simulate_agent(agent: Agent, episodes: int):\n",
    "    env = TheGang()\n",
    "    average_episode_rewards = []\n",
    "    actions = []\n",
    "    for epi in tqdm(range(episodes)):\n",
    "        env.reset()\n",
    "\n",
    "        episode_rewards = []\n",
    "        episode_states = []\n",
    "        episode_actions = []\n",
    "        state = {'state':env.generate_state_array([0,0,0,0]),'reward':[0,0,0,0],'done':False}\n",
    "\n",
    "        # Loop turns in episode\n",
    "        while not state['done']:\n",
    "            episode_states.append(state['state'])\n",
    "\n",
    "            a = agent.generate_actions(state['state']).tolist()\n",
    "            actions.append(a)\n",
    "\n",
    "            episode_actions.append(a)\n",
    "            state = env.step(a)\n",
    "            episode_rewards.append(state['reward'])\n",
    "        average_episode_rewards.append(np.mean(episode_rewards))\n",
    "    return average_episode_rewards, actions"
   ]
  },
  {
   "cell_type": "code",
   "execution_count": 96,
   "metadata": {},
   "outputs": [
    {
     "name": "stderr",
     "output_type": "stream",
     "text": [
      "100%|██████████| 1000/1000 [00:04<00:00, 237.93it/s]\n"
     ]
    }
   ],
   "source": [
    "episode_rewards, actions = simulate_agent(agent, 1000)"
   ]
  },
  {
   "cell_type": "code",
   "execution_count": 97,
   "metadata": {},
   "outputs": [
    {
     "data": {
      "text/plain": [
       "34.709375"
      ]
     },
     "execution_count": 97,
     "metadata": {},
     "output_type": "execute_result"
    }
   ],
   "source": [
    "np.mean(episode_rewards)"
   ]
  },
  {
   "cell_type": "code",
   "execution_count": 98,
   "metadata": {},
   "outputs": [],
   "source": [
    "actions_list = np.array(actions).flatten()"
   ]
  },
  {
   "cell_type": "code",
   "execution_count": 99,
   "metadata": {},
   "outputs": [],
   "source": [
    "action_space, action_counts = np.unique(actions_list, return_counts=True)"
   ]
  },
  {
   "cell_type": "code",
   "execution_count": 100,
   "metadata": {},
   "outputs": [
    {
     "data": {
      "image/png": "[encoded data removed]",
      "text/plain": [
       "<Figure size 640x480 with 1 Axes>"
      ]
     },
     "metadata": {},
     "output_type": "display_data"
    }
   ],
   "source": [
    "sns.barplot(x=action_space, y=action_counts)\n",
    "plt.xlabel(\"Action\")\n",
    "plt.ylabel(\"Count\")\n",
    "plt.title(\"Action Counts\")\n",
    "plt.savefig(f\"Action_Counts_{model_name}.svg\", format=\"svg\")"
   ]
  },
  {
   "cell_type": "code",
   "execution_count": 101,
   "metadata": {},
   "outputs": [],
   "source": [
    "def simulate_agent(agent: Agent, episodes: int):\n",
    "    env = TheGang()\n",
    "    average_episode_rewards = []\n",
    "    actions = []\n",
    "    action_probs = []\n",
    "    for epi in tqdm(range(episodes)):\n",
    "        env.reset()\n",
    "\n",
    "        episode_rewards = []\n",
    "        episode_states = []\n",
    "        episode_actions = []\n",
    "        state = {'state':env.generate_state_array([0,0,0,0]),'reward':[0,0,0,0],'done':False}\n",
    "\n",
    "        # Loop turns in episode\n",
    "        while not state['done']:\n",
    "            episode_states.append(state['state'])\n",
    "\n",
    "            a, probs = agent.generate_actions_with_probs(state['state'])\n",
    "            a = a.tolist()\n",
    "            actions.append(a)\n",
    "            action_probs.append(probs)\n",
    "\n",
    "            episode_actions.append(a)\n",
    "            state = env.step(a)\n",
    "            episode_rewards.append(state['reward'])\n",
    "        average_episode_rewards.append(np.mean(episode_rewards))\n",
    "    return average_episode_rewards, actions, action_probs"
   ]
  },
  {
   "cell_type": "code",
   "execution_count": 102,
   "metadata": {},
   "outputs": [
    {
     "name": "stderr",
     "output_type": "stream",
     "text": [
      "100%|██████████| 1000/1000 [00:03<00:00, 252.33it/s]\n"
     ]
    }
   ],
   "source": [
    "episode_rewards, actions, action_probs = simulate_agent(agent, 1000)"
   ]
  },
  {
   "cell_type": "code",
   "execution_count": 103,
   "metadata": {},
   "outputs": [
    {
     "data": {
      "text/plain": [
       "tensor([[0.0000e+00, 0.0000e+00, 1.0000e+00, 0.0000e+00],\n",
       "        [2.4397e-42, 1.0000e+00, 3.5077e-11, 2.1053e-30],\n",
       "        [2.7947e-40, 1.0000e+00, 1.8261e-11, 1.4083e-29],\n",
       "        [0.0000e+00, 8.7691e-10, 1.0000e+00, 0.0000e+00]],\n",
       "       grad_fn=<SoftmaxBackward0>)"
      ]
     },
     "execution_count": 103,
     "metadata": {},
     "output_type": "execute_result"
    }
   ],
   "source": [
    "action_probs[1]"
   ]
  },
  {
   "cell_type": "code",
   "execution_count": 104,
   "metadata": {},
   "outputs": [],
   "source": [
    "action_probs = [time_step_probs.tolist() for time_step_probs in action_probs]"
   ]
  },
  {
   "cell_type": "code",
   "execution_count": 105,
   "metadata": {},
   "outputs": [],
   "source": [
    "flat_list = []\n",
    "for time_step_prob in action_probs:\n",
    "    flat_list.extend(time_step_prob)"
   ]
  },
  {
   "cell_type": "code",
   "execution_count": 106,
   "metadata": {},
   "outputs": [],
   "source": [
    "action_probs_df = pd.DataFrame(flat_list, columns=[\"1\", \"2\", \"3\", \"4\"])"
   ]
  },
  {
   "cell_type": "code",
   "execution_count": 107,
   "metadata": {},
   "outputs": [
    {
     "data": {
      "text/html": [
       "<div>\n",
       "<style scoped>\n",
       "    .dataframe tbody tr th:only-of-type {\n",
       "        vertical-align: middle;\n",
       "    }\n",
       "\n",
       "    .dataframe tbody tr th {\n",
       "        vertical-align: top;\n",
       "    }\n",
       "\n",
       "    .dataframe thead th {\n",
       "        text-align: right;\n",
       "    }\n",
       "</style>\n",
       "<table border=\"1\" class=\"dataframe\">\n",
       "  <thead>\n",
       "    <tr style=\"text-align: right;\">\n",
       "      <th></th>\n",
       "      <th>1</th>\n",
       "      <th>2</th>\n",
       "      <th>3</th>\n",
       "      <th>4</th>\n",
       "    </tr>\n",
       "  </thead>\n",
       "  <tbody>\n",
       "    <tr>\n",
       "      <th>0</th>\n",
       "      <td>4.414090e-43</td>\n",
       "      <td>1.000000</td>\n",
       "      <td>4.438653e-11</td>\n",
       "      <td>1.060798e-30</td>\n",
       "    </tr>\n",
       "    <tr>\n",
       "      <th>1</th>\n",
       "      <td>9.988528e-01</td>\n",
       "      <td>0.001147</td>\n",
       "      <td>3.058584e-20</td>\n",
       "      <td>1.796593e-15</td>\n",
       "    </tr>\n",
       "    <tr>\n",
       "      <th>2</th>\n",
       "      <td>9.987509e-01</td>\n",
       "      <td>0.001249</td>\n",
       "      <td>3.361213e-20</td>\n",
       "      <td>1.886511e-15</td>\n",
       "    </tr>\n",
       "    <tr>\n",
       "      <th>3</th>\n",
       "      <td>0.000000e+00</td>\n",
       "      <td>0.999992</td>\n",
       "      <td>7.859345e-06</td>\n",
       "      <td>0.000000e+00</td>\n",
       "    </tr>\n",
       "    <tr>\n",
       "      <th>4</th>\n",
       "      <td>0.000000e+00</td>\n",
       "      <td>0.000000</td>\n",
       "      <td>1.000000e+00</td>\n",
       "      <td>0.000000e+00</td>\n",
       "    </tr>\n",
       "  </tbody>\n",
       "</table>\n",
       "</div>"
      ],
      "text/plain": [
       "              1         2             3             4\n",
       "0  4.414090e-43  1.000000  4.438653e-11  1.060798e-30\n",
       "1  9.988528e-01  0.001147  3.058584e-20  1.796593e-15\n",
       "2  9.987509e-01  0.001249  3.361213e-20  1.886511e-15\n",
       "3  0.000000e+00  0.999992  7.859345e-06  0.000000e+00\n",
       "4  0.000000e+00  0.000000  1.000000e+00  0.000000e+00"
      ]
     },
     "execution_count": 107,
     "metadata": {},
     "output_type": "execute_result"
    }
   ],
   "source": [
    "action_probs_df.head()"
   ]
  },
  {
   "cell_type": "code",
   "execution_count": 108,
   "metadata": {},
   "outputs": [
    {
     "name": "stderr",
     "output_type": "stream",
     "text": [
      "C:\\Users\\Josh\\AppData\\Local\\Temp\\ipykernel_14416\\2048303853.py:1: FutureWarning: \n",
      "\n",
      "The `bw` parameter is deprecated in favor of `bw_method`/`bw_adjust`.\n",
      "Setting `bw_method=0.05`, but please see docs for the new parameters\n",
      "and update your code. This will become an error in seaborn v0.15.0.\n",
      "\n",
      "  sns.violinplot(action_probs_df, bw=0.05, cut=0)\n"
     ]
    },
    {
     "data": {
      "image/png": "[encoded data removed]",
      "text/plain": [
       "<Figure size 640x480 with 1 Axes>"
      ]
     },
     "metadata": {},
     "output_type": "display_data"
    }
   ],
   "source": [
    "sns.violinplot(action_probs_df, bw=0.05, cut=0)\n",
    "plt.xlabel(\"Action\")\n",
    "plt.ylabel(\"Probability of Action\")\n",
    "plt.title(\"Probability Density of Actions\")\n",
    "plt.savefig(f\"Action_Probability_Density_{model_name}.svg\")"
   ]
  },
  {
   "cell_type": "code",
   "execution_count": null,
   "metadata": {},
   "outputs": [],
   "source": []
  }
 ],
 "metadata": {
  "kernelspec": {
   "display_name": "battleship",
   "language": "python",
   "name": "python3"
  },
  "language_info": {
   "codemirror_mode": {
    "name": "ipython",
    "version": 3
   },
   "file_extension": ".py",
   "mimetype": "text/x-python",
   "name": "python",
   "nbconvert_exporter": "python",
   "pygments_lexer": "ipython3",
   "version": "3.12.7"
  }
 },
 "nbformat": 4,
 "nbformat_minor": 2
}
