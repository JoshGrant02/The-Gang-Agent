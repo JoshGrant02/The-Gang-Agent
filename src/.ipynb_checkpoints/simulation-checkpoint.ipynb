{
 "cells": [
  {
   "cell_type": "code",
   "execution_count": 42,
   "metadata": {},
   "outputs": [],
   "source": [
    "#@@@@@@@@@@@@@@@@@@@@@@@\n",
    "#import useful libraries\n",
    "#@@@@@@@@@@@@@@@@@@@@@@@\n",
    "import pandas as pd\n",
    "import numpy as np\n",
    "import copy\n",
    "from scipy import interpolate\n",
    "from scipy.stats import truncnorm\n",
    "import pickle\n",
    "from tqdm import tqdm\n",
    "from matplotlib import pyplot as plt\n",
    "import seaborn as sns\n",
    "from pydantic import BaseModel\n",
    "import csv\n",
    "import os\n",
    "import torch\n",
    "import torch.nn as nn\n",
    "import torch.optim as optim\n",
    "from typing import List\n",
    "import time\n",
    "\n",
    "from game import TheGang\n",
    "from models import HandFeatures"
   ]
  },
  {
   "cell_type": "code",
   "execution_count": 5,
   "metadata": {},
   "outputs": [
    {
     "name": "stdout",
     "output_type": "stream",
     "text": [
      "Using GPU\n"
     ]
    }
   ],
   "source": [
    "import torch\n",
    "\n",
    "# Check if a GPU is available\n",
    "if torch.cuda.is_available():\n",
    "    device = torch.device(\"cuda\")\n",
    "    print(\"Using GPU\")\n",
    "else:\n",
    "    device = torch.device(\"cpu\")\n",
    "    print(\"Using CPU\")"
   ]
  },
  {
   "cell_type": "code",
   "execution_count": 37,
   "metadata": {},
   "outputs": [],
   "source": [
    "#@@@@@@@@@@@@@@@@@@@@@\n",
    "#Simple profiler class\n",
    "#@@@@@@@@@@@@@@@@@@@@@\n",
    "class Profiler:\n",
    "    def __init__(self):\n",
    "        self.checkpoint_times: Dict[str, List[float]] = {}\n",
    "        self.checkpoint_start_times: Dict[str, float] = {}\n",
    "\n",
    "    def reset(self):\n",
    "        self.checkpoint_times: Dict[str, List[float]] = {}\n",
    "        self.checkpoint_start_times: Dict[str, float] = {}\n",
    "\n",
    "    def start(self, checkpoint: str):\n",
    "        start_time = time.time()\n",
    "        self.checkpoint_start_times[checkpoint] = start_time\n",
    "\n",
    "    def stop(self, checkpoint: str):\n",
    "        stop_time = time.time()\n",
    "        start_time = self.checkpoint_start_times.get(checkpoint, 0)\n",
    "        if start_time == 0:\n",
    "            raise Exception(\"No start time for the current checkpoint\")\n",
    "        duration = stop_time - start_time\n",
    "        existing_checkpoint = self.checkpoint_times.get(checkpoint, None)\n",
    "        if existing_checkpoint:\n",
    "            existing_checkpoint.append(duration)\n",
    "        else:\n",
    "            self.checkpoint_times[checkpoint] = [duration]\n",
    "\n",
    "    def report(self):\n",
    "        for checkpoint, values in self.checkpoint_times.items():\n",
    "            iters = len(values)\n",
    "            max_time = max(values)\n",
    "            min_time = min(values)\n",
    "            average_time = np.mean(values)\n",
    "            range = max(max_time - average_time, average_time - min_time)\n",
    "            print(\"%-20s | %.4f s ± %.4f s per iteration | n_iters = %d\" % (checkpoint[:20], average_time, range, iters))"
   ]
  },
  {
   "cell_type": "code",
   "execution_count": 30,
   "metadata": {},
   "outputs": [],
   "source": [
    "#@@@@@@@@@@@@@@@@@@@@@@@@@@@@@@@@@@@@@@@@@@@@@\n",
    "class PolicyNetwork(nn.Module):\n",
    "    def __init__(self, input_size, hidden_layer_size, hidden_layer_count = 1):\n",
    "        super(PolicyNetwork, self).__init__()\n",
    "        self.hidden_layers = nn.ModuleList()\n",
    "        self.hidden_layers.append(nn.Linear(input_size, hidden_layer_size))\n",
    "        nn.init.normal_(self.hidden_layers[0].weight, mean = 0, std = 0.01)\n",
    "        nn.init.normal_(self.hidden_layers[0].bias, mean = 0, std = 0.01)\n",
    "        for _ in range(hidden_layer_count-1):\n",
    "            layer = nn.Linear(hidden_layer_size, hidden_layer_size)\n",
    "            self.hidden_layers.append(layer)\n",
    "            nn.init.normal_(layer.weight, mean = 0, std = 0.01)\n",
    "            nn.init.normal_(layer.bias, mean = 0, std = 0.01)\n",
    "        self.output_layer = nn.Linear(hidden_layer_size, 4)    #the output layer with probabiliy for each action\n",
    "        self.output_layer.bias = nn.Parameter(torch.tensor([0.0, 0.0, 0.0, 0.0])) \n",
    "\n",
    "    def forward(self, s: torch.Tensor) -> torch.Tensor:\n",
    "        '''A function to do the forward pass\n",
    "            Takes:\n",
    "                s -- the state representation\n",
    "            Returns:\n",
    "                a tensor of probabilities\n",
    "        '''         \n",
    "        s = s.to(next(self.parameters()).device)\n",
    "        for layer in self.hidden_layers:\n",
    "             s = torch.relu(layer(s))    #pass through the hidden layers\n",
    "        s = self.output_layer(s)\n",
    "        action_probs = torch.softmax(s, dim=1)    #use softmax to get action probabilities\n",
    "        return action_probs.to('cpu')\n"
   ]
  },
  {
   "cell_type": "code",
   "execution_count": 56,
   "metadata": {},
   "outputs": [],
   "source": [
    "class AgentConfig(BaseModel):\n",
    "    hidden_layer_size: int = 32\n",
    "    hidden_layer_count: int = 8\n",
    "    learning_rate: float = 0.0005\n",
    "\n",
    "class Agent():\n",
    "    def __init__(self, config: AgentConfig):\n",
    "        self.config = config\n",
    "        self.pi = PolicyNetwork(17, config.hidden_layer_size, config.hidden_layer_count).to(device)\n",
    "        self.optimizer = optim.Adam(self.pi.parameters(), lr=self.config.learning_rate)\n",
    "\n",
    "    def generate_actions(self, state_array: List[List[int]]):\n",
    "        action_probs = self.pi(torch.tensor(state_array, dtype=torch.float32)) # Create tensor and feed state through model\n",
    "        sampled_actions = torch.multinomial(action_probs, 1).squeeze(dim=1)\n",
    "        action_space = torch.tensor([1, 2, 3, 4])\n",
    "        final_actions = action_space[sampled_actions]\n",
    "        return final_actions\n",
    "\n",
    "    def generate_action_probs(self, a: List[int], state_array: List[List[int]]):\n",
    "        all_action_probs = self.pi(torch.tensor(state_array, dtype=torch.float32)) # Create tensor and feed state through model\n",
    "        a_tensor = torch.tensor(a, dtype=torch.long)\n",
    "        a_tensor = a_tensor - 1\n",
    "        performed_action_probs = all_action_probs.gather(1, a_tensor.unsqueeze(1)).squeeze(1)\n",
    "        log_probs = torch.log(performed_action_probs)\n",
    "        return log_probs\n",
    "\n",
    "    def checkpoint(self, model_name, epoch_count: int):\n",
    "        directory = f'checkpoints/{model_name}'\n",
    "        os.makedirs(directory, exist_ok=True)\n",
    "        torch.save(self.pi.state_dict(), f'{directory}/epi_{epoch_count}.pth')\n",
    "        \n",
    "    def load_checkpoint(self, model_name: str, epoch_count: int):\n",
    "        self.pi.load_state_dict(torch.load(f'checkpoints/{model_name}/epi_{epoch_count}.pth'))\n"
   ]
  },
  {
   "cell_type": "code",
   "execution_count": 57,
   "metadata": {},
   "outputs": [],
   "source": [
    "class TrainingConfig(BaseModel):\n",
    "    discount_factor: float = 0.5\n",
    "    batch_size: int = 100\n",
    "    checkpoint_freq: int = 5000"
   ]
  },
  {
   "cell_type": "code",
   "execution_count": 58,
   "metadata": {},
   "outputs": [],
   "source": [
    "def train_agent(\n",
    "    agent: Agent,\n",
    "    env: TheGang,\n",
    "    training_config: TrainingConfig,\n",
    "    num_epochs: int,\n",
    "    starting_epoch: int,\n",
    "    model_name: str,\n",
    "    profiler: Profiler = None\n",
    "):\n",
    "    average_epoch_rewards = []\n",
    "    for epoch in tqdm(range(num_epochs)):\n",
    "        if profiler:\n",
    "            profiler.start(\"epoch\")\n",
    "\n",
    "        epoch_batch_rewards = []\n",
    "        batch = []\n",
    "        # Repead episodes until epoch batch size is reached\n",
    "        for epi in range(training_config.batch_size):\n",
    "            if profiler:\n",
    "                profiler.start(\"episode\")\n",
    "    \n",
    "            env.reset()\n",
    "\n",
    "            episode_rewards = []\n",
    "            episode_states = []\n",
    "            episode_actions = []\n",
    "            state = {'state':env.generate_state_array([0,0,0,0]),'reward':[0,0,0,0],'done':False}\n",
    "\n",
    "            # Loop turns in episode\n",
    "            while not state['done']:\n",
    "                episode_states.append(state['state'])\n",
    "                \n",
    "                if profiler:\n",
    "                    profiler.start(\"action generation\")\n",
    "                \n",
    "                a = agent.generate_actions(state['state']).tolist()\n",
    "                \n",
    "                if profiler:\n",
    "                    profiler.stop(\"action generation\")\n",
    "                    profiler.start(\"environment step\")\n",
    "                \n",
    "                episode_actions.append(a)\n",
    "                state = env.step(a)\n",
    "                episode_rewards.append(state['reward'])\n",
    "                \n",
    "                if profiler:\n",
    "                    profiler.stop(\"environment step\")\n",
    "\n",
    "            # Track fire rate and terminal rewards for non-fired episodes\n",
    "            epoch_batch_rewards.extend(episode_rewards)\n",
    "\n",
    "            if profiler:\n",
    "                profiler.start(\"calculate causal returns\")\n",
    "\n",
    "            # Calcualte causal reward\n",
    "            causal_returns = []\n",
    "            rolling_causal_return = np.zeros(len(episode_rewards[0]))\n",
    "            # Calculate causal returns in reverse order\n",
    "            for rewards in episode_rewards[::-1]:\n",
    "                causal_return = rewards + training_config.discount_factor * rolling_causal_return\n",
    "                rolling_causal_return = causal_return\n",
    "                causal_returns.append(causal_return)\n",
    "            # Reverse the causal returns to get the correct order\n",
    "            causal_returns = causal_returns[::-1]\n",
    "            \n",
    "            if profiler:\n",
    "                profiler.stop(\"calculate causal returns\")\n",
    "                profiler.stop(\"episode\")\n",
    "\n",
    "            for state, action, reward, causal_return in zip(episode_states, episode_actions, episode_rewards, causal_returns):\n",
    "                batch.append({'s_t': state, 'a_t': action, 'r_t': reward, 'cr_t': causal_return})\n",
    "\n",
    "        # Calculate epoch performance\n",
    "        average_epoch_rewards.append(np.mean(epoch_batch_rewards))\n",
    "        \n",
    "        # Checkpoint if applicable\n",
    "        if epoch % training_config.checkpoint_freq == 0:\n",
    "            agent.checkpoint(model_name, starting_epoch + num_epochs)\n",
    "            with open(f'checkpoints/{model_name}/epoch_rewards.csv', 'w', newline=\"\") as f:\n",
    "                writer = csv.writer(f)\n",
    "                writer.writerow(epoch_batch_rewards)\n",
    "\n",
    "        log_probs = []\n",
    "        batch_causal_returns = []\n",
    "        for step in batch:    # Loop over batch\n",
    "            states = step['s_t']\n",
    "            actions = step['a_t']\n",
    "            if profiler:\n",
    "                profiler.start(\"action prob generation\")\n",
    "            action_probs = agent.generate_action_probs(actions, states)    # Compute action probability from policy\n",
    "            if profiler:\n",
    "                profiler.stop(\"action prob generation\")\n",
    "            log_probs.append(action_probs.squeeze())    # Record the log probability of the chosen action\n",
    "            batch_causal_returns.append(step['cr_t'])\n",
    "\n",
    "        if profiler:\n",
    "            profiler.start(\"update gradient\")\n",
    "\n",
    "        # Perform baselining\n",
    "        baseline = np.mean(batch_causal_returns)\n",
    "        baselined_causal_returns = batch_causal_returns - baseline\n",
    "\n",
    "        baselined_causal_returns = torch.tensor(baselined_causal_returns)\n",
    "        log_probs = torch.stack(log_probs)    #reshape to compute gradient over the whole episode #Shape: (batch_size, 4)\n",
    "\n",
    "        objective = -torch.sum(log_probs * baselined_causal_returns)/len(batch) # Batch, and do \"-\" to convert \"loss\" to \"gain\"\n",
    "\n",
    "        agent.optimizer.zero_grad()    #zero gradients from the previous step\n",
    "        objective.backward()    #compute gradients\n",
    "        agent.optimizer.step()\n",
    "        \n",
    "        if profiler:\n",
    "            profiler.stop(\"update gradient\")\n",
    "            profiler.stop(\"epoch\")\n",
    "\n",
    "    agent.checkpoint(model_name, starting_epoch + num_epochs)\n",
    "    with open(f'checkpoints/{model_name}/epoch_rewards.csv', 'w', newline=\"\") as f:\n",
    "        writer = csv.writer(f)\n",
    "        writer.writerow(epoch_batch_rewards)\n",
    "\n",
    "    return epoch_batch_rewards\n",
    "\n"
   ]
  },
  {
   "cell_type": "code",
   "execution_count": 59,
   "metadata": {},
   "outputs": [
    {
     "name": "stderr",
     "output_type": "stream",
     "text": [
      "100%|██████████| 10/10 [00:08<00:00,  1.24it/s]\n"
     ]
    }
   ],
   "source": [
    "agent_config = AgentConfig()\n",
    "training_config = TrainingConfig()\n",
    "agent = Agent(agent_config)\n",
    "env = TheGang()\n",
    "profiler = Profiler()\n",
    "epoch_rewards = train_agent(agent, env, training_config, 10, 0, 'Profiling', profiler=profiler)"
   ]
  },
  {
   "cell_type": "code",
   "execution_count": 60,
   "metadata": {},
   "outputs": [
    {
     "name": "stdout",
     "output_type": "stream",
     "text": [
      "action generation    | 0.0005 s ± 0.0011 s per iteration | n_iters = 4000\n",
      "environment step     | 0.0004 s ± 0.0011 s per iteration | n_iters = 4000\n",
      "calculate causal ret | 0.0000 s ± 0.0000 s per iteration | n_iters = 1000\n",
      "episode              | 0.0040 s ± 0.0065 s per iteration | n_iters = 1000\n",
      "action prob generati | 0.0004 s ± 0.0734 s per iteration | n_iters = 4000\n",
      "update gradient      | 0.2393 s ± 0.0219 s per iteration | n_iters = 10\n",
      "epoch                | 0.8035 s ± 0.0725 s per iteration | n_iters = 10\n"
     ]
    }
   ],
   "source": [
    "profiler.report()"
   ]
  },
  {
   "cell_type": "code",
   "execution_count": 36,
   "metadata": {},
   "outputs": [
    {
     "name": "stderr",
     "output_type": "stream",
     "text": [
      "  1%|          | 358/40000 [07:12<13:18:26,  1.21s/it]\n"
     ]
    },
    {
     "ename": "KeyboardInterrupt",
     "evalue": "",
     "output_type": "error",
     "traceback": [
      "\u001b[0;31m---------------------------------------------------------------------------\u001b[0m",
      "\u001b[0;31mKeyboardInterrupt\u001b[0m                         Traceback (most recent call last)",
      "\u001b[0;32m/tmp/ipykernel_946111/828237330.py\u001b[0m in \u001b[0;36m<module>\u001b[0;34m\u001b[0m\n\u001b[1;32m      3\u001b[0m \u001b[0magent\u001b[0m \u001b[0;34m=\u001b[0m \u001b[0mAgent\u001b[0m\u001b[0;34m(\u001b[0m\u001b[0magent_config\u001b[0m\u001b[0;34m)\u001b[0m\u001b[0;34m\u001b[0m\u001b[0;34m\u001b[0m\u001b[0m\n\u001b[1;32m      4\u001b[0m \u001b[0menv\u001b[0m \u001b[0;34m=\u001b[0m \u001b[0mTheGang\u001b[0m\u001b[0;34m(\u001b[0m\u001b[0;34m)\u001b[0m\u001b[0;34m\u001b[0m\u001b[0;34m\u001b[0m\u001b[0m\n\u001b[0;32m----> 5\u001b[0;31m \u001b[0mfire_rate\u001b[0m\u001b[0;34m,\u001b[0m \u001b[0maverage_terminal_states\u001b[0m \u001b[0;34m=\u001b[0m \u001b[0mtrain_agent\u001b[0m\u001b[0;34m(\u001b[0m\u001b[0magent\u001b[0m\u001b[0;34m,\u001b[0m \u001b[0menv\u001b[0m\u001b[0;34m,\u001b[0m \u001b[0mtraining_config\u001b[0m\u001b[0;34m,\u001b[0m \u001b[0;36m40000\u001b[0m\u001b[0;34m,\u001b[0m \u001b[0;36m0\u001b[0m\u001b[0;34m,\u001b[0m \u001b[0;34m'Baseline'\u001b[0m\u001b[0;34m)\u001b[0m\u001b[0;34m\u001b[0m\u001b[0;34m\u001b[0m\u001b[0m\n\u001b[0m",
      "\u001b[0;32m/tmp/ipykernel_946111/3663019612.py\u001b[0m in \u001b[0;36mtrain_agent\u001b[0;34m(agent, env, training_config, num_epochs, starting_epoch, model_name)\u001b[0m\n\u001b[1;32m     25\u001b[0m                 \u001b[0ma\u001b[0m \u001b[0;34m=\u001b[0m \u001b[0magent\u001b[0m\u001b[0;34m.\u001b[0m\u001b[0mgenerate_actions\u001b[0m\u001b[0;34m(\u001b[0m\u001b[0mstate\u001b[0m\u001b[0;34m[\u001b[0m\u001b[0;34m'state'\u001b[0m\u001b[0;34m]\u001b[0m\u001b[0;34m)\u001b[0m\u001b[0;34m.\u001b[0m\u001b[0mtolist\u001b[0m\u001b[0;34m(\u001b[0m\u001b[0;34m)\u001b[0m\u001b[0;34m\u001b[0m\u001b[0;34m\u001b[0m\u001b[0m\n\u001b[1;32m     26\u001b[0m                 \u001b[0mepisode_actions\u001b[0m\u001b[0;34m.\u001b[0m\u001b[0mappend\u001b[0m\u001b[0;34m(\u001b[0m\u001b[0ma\u001b[0m\u001b[0;34m)\u001b[0m\u001b[0;34m\u001b[0m\u001b[0;34m\u001b[0m\u001b[0m\n\u001b[0;32m---> 27\u001b[0;31m                 \u001b[0mstate\u001b[0m \u001b[0;34m=\u001b[0m \u001b[0menv\u001b[0m\u001b[0;34m.\u001b[0m\u001b[0mstep\u001b[0m\u001b[0;34m(\u001b[0m\u001b[0ma\u001b[0m\u001b[0;34m)\u001b[0m\u001b[0;34m\u001b[0m\u001b[0;34m\u001b[0m\u001b[0m\n\u001b[0m\u001b[1;32m     28\u001b[0m                 \u001b[0mepisode_rewards\u001b[0m\u001b[0;34m.\u001b[0m\u001b[0mappend\u001b[0m\u001b[0;34m(\u001b[0m\u001b[0mstate\u001b[0m\u001b[0;34m[\u001b[0m\u001b[0;34m'reward'\u001b[0m\u001b[0;34m]\u001b[0m\u001b[0;34m)\u001b[0m\u001b[0;34m\u001b[0m\u001b[0;34m\u001b[0m\u001b[0m\n\u001b[1;32m     29\u001b[0m \u001b[0;34m\u001b[0m\u001b[0m\n",
      "\u001b[0;32m~/projects/The-Gang-Bot/src/game.py\u001b[0m in \u001b[0;36mstep\u001b[0;34m(self, actions)\u001b[0m\n\u001b[1;32m     94\u001b[0m             \u001b[0mcard\u001b[0m \u001b[0;34m=\u001b[0m \u001b[0mself\u001b[0m\u001b[0;34m.\u001b[0m\u001b[0mdeck\u001b[0m\u001b[0;34m.\u001b[0m\u001b[0mdraw\u001b[0m\u001b[0;34m(\u001b[0m\u001b[0;34m)\u001b[0m\u001b[0;34m\u001b[0m\u001b[0;34m\u001b[0m\u001b[0m\n\u001b[1;32m     95\u001b[0m             \u001b[0;32mfor\u001b[0m \u001b[0mhand\u001b[0m \u001b[0;32min\u001b[0m \u001b[0mself\u001b[0m\u001b[0;34m.\u001b[0m\u001b[0mhands\u001b[0m\u001b[0;34m:\u001b[0m\u001b[0;34m\u001b[0m\u001b[0;34m\u001b[0m\u001b[0m\n\u001b[0;32m---> 96\u001b[0;31m                 \u001b[0mhand\u001b[0m\u001b[0;34m.\u001b[0m\u001b[0madd_card\u001b[0m\u001b[0;34m(\u001b[0m\u001b[0mcard\u001b[0m\u001b[0;34m)\u001b[0m\u001b[0;34m\u001b[0m\u001b[0;34m\u001b[0m\u001b[0m\n\u001b[0m\u001b[1;32m     97\u001b[0m \u001b[0;34m\u001b[0m\u001b[0m\n\u001b[1;32m     98\u001b[0m         \u001b[0mself\u001b[0m\u001b[0;34m.\u001b[0m\u001b[0mturn\u001b[0m \u001b[0;34m+=\u001b[0m \u001b[0;36m1\u001b[0m \u001b[0;31m# Increment the turn\u001b[0m\u001b[0;34m\u001b[0m\u001b[0;34m\u001b[0m\u001b[0m\n",
      "\u001b[0;32m~/projects/The-Gang-Bot/src/hand.py\u001b[0m in \u001b[0;36madd_card\u001b[0;34m(self, card)\u001b[0m\n\u001b[1;32m    334\u001b[0m         \u001b[0mself\u001b[0m\u001b[0;34m.\u001b[0m\u001b[0mcards\u001b[0m\u001b[0;34m.\u001b[0m\u001b[0mappend\u001b[0m\u001b[0;34m(\u001b[0m\u001b[0mcard\u001b[0m\u001b[0;34m)\u001b[0m\u001b[0;34m\u001b[0m\u001b[0;34m\u001b[0m\u001b[0m\n\u001b[1;32m    335\u001b[0m         \u001b[0;32mif\u001b[0m \u001b[0mlen\u001b[0m\u001b[0;34m(\u001b[0m\u001b[0mself\u001b[0m\u001b[0;34m.\u001b[0m\u001b[0mcards\u001b[0m\u001b[0;34m)\u001b[0m \u001b[0;34m==\u001b[0m \u001b[0;36m2\u001b[0m \u001b[0;32mor\u001b[0m \u001b[0mlen\u001b[0m\u001b[0;34m(\u001b[0m\u001b[0mself\u001b[0m\u001b[0;34m.\u001b[0m\u001b[0mcards\u001b[0m\u001b[0;34m)\u001b[0m \u001b[0;34m>=\u001b[0m \u001b[0;36m5\u001b[0m\u001b[0;34m:\u001b[0m\u001b[0;34m\u001b[0m\u001b[0;34m\u001b[0m\u001b[0m\n\u001b[0;32m--> 336\u001b[0;31m             \u001b[0mself\u001b[0m\u001b[0;34m.\u001b[0m\u001b[0mrecalculate_hand_features\u001b[0m\u001b[0;34m(\u001b[0m\u001b[0;34m)\u001b[0m\u001b[0;34m\u001b[0m\u001b[0;34m\u001b[0m\u001b[0m\n\u001b[0m\u001b[1;32m    337\u001b[0m \u001b[0;34m\u001b[0m\u001b[0m\n\u001b[1;32m    338\u001b[0m     \u001b[0;32mdef\u001b[0m \u001b[0m__str__\u001b[0m\u001b[0;34m(\u001b[0m\u001b[0mself\u001b[0m\u001b[0;34m)\u001b[0m\u001b[0;34m:\u001b[0m\u001b[0;34m\u001b[0m\u001b[0;34m\u001b[0m\u001b[0m\n",
      "\u001b[0;32m~/projects/The-Gang-Bot/src/hand.py\u001b[0m in \u001b[0;36mrecalculate_hand_features\u001b[0;34m(self)\u001b[0m\n\u001b[1;32m     46\u001b[0m         \u001b[0mself\u001b[0m\u001b[0;34m.\u001b[0m\u001b[0mfeatures\u001b[0m\u001b[0;34m.\u001b[0m\u001b[0mfull_house_potential\u001b[0m \u001b[0;34m=\u001b[0m \u001b[0mfull_house_potential\u001b[0m\u001b[0;34m\u001b[0m\u001b[0;34m\u001b[0m\u001b[0m\n\u001b[1;32m     47\u001b[0m         \u001b[0mself\u001b[0m\u001b[0;34m.\u001b[0m\u001b[0mfeatures\u001b[0m\u001b[0;34m.\u001b[0m\u001b[0mfour_of_a_kind_potential\u001b[0m \u001b[0;34m=\u001b[0m \u001b[0mquad_potential\u001b[0m\u001b[0;34m\u001b[0m\u001b[0;34m\u001b[0m\u001b[0m\n\u001b[0;32m---> 48\u001b[0;31m         \u001b[0mself\u001b[0m\u001b[0;34m.\u001b[0m\u001b[0mfeatures\u001b[0m\u001b[0;34m.\u001b[0m\u001b[0mstraight_flush_potential\u001b[0m \u001b[0;34m=\u001b[0m \u001b[0mstraight_flush_potential\u001b[0m\u001b[0;34m\u001b[0m\u001b[0;34m\u001b[0m\u001b[0m\n\u001b[0m\u001b[1;32m     49\u001b[0m \u001b[0;34m\u001b[0m\u001b[0m\n\u001b[1;32m     50\u001b[0m         \u001b[0mrank\u001b[0m \u001b[0;34m=\u001b[0m \u001b[0mRank\u001b[0m\u001b[0;34m.\u001b[0m\u001b[0mHIGH_CARD\u001b[0m\u001b[0;34m\u001b[0m\u001b[0;34m\u001b[0m\u001b[0m\n",
      "\u001b[0;32m~/.local/lib/python3.7/site-packages/pydantic/main.py\u001b[0m in \u001b[0;36m__setattr__\u001b[0;34m(self, name, value)\u001b[0m\n\u001b[1;32m    788\u001b[0m             \u001b[0;31m# TODO - matching error\u001b[0m\u001b[0;34m\u001b[0m\u001b[0;34m\u001b[0m\u001b[0;34m\u001b[0m\u001b[0m\n\u001b[1;32m    789\u001b[0m             \u001b[0;32mraise\u001b[0m \u001b[0mValueError\u001b[0m\u001b[0;34m(\u001b[0m\u001b[0;34mf'\"{self.__class__.__name__}\" object has no field \"{name}\"'\u001b[0m\u001b[0;34m)\u001b[0m\u001b[0;34m\u001b[0m\u001b[0;34m\u001b[0m\u001b[0m\n\u001b[0;32m--> 790\u001b[0;31m         \u001b[0;32melif\u001b[0m \u001b[0mself\u001b[0m\u001b[0;34m.\u001b[0m\u001b[0mmodel_config\u001b[0m\u001b[0;34m.\u001b[0m\u001b[0mget\u001b[0m\u001b[0;34m(\u001b[0m\u001b[0;34m'extra'\u001b[0m\u001b[0;34m)\u001b[0m \u001b[0;34m==\u001b[0m \u001b[0;34m'allow'\u001b[0m \u001b[0;32mand\u001b[0m \u001b[0mname\u001b[0m \u001b[0;32mnot\u001b[0m \u001b[0;32min\u001b[0m \u001b[0mself\u001b[0m\u001b[0;34m.\u001b[0m\u001b[0mmodel_fields\u001b[0m\u001b[0;34m:\u001b[0m\u001b[0;34m\u001b[0m\u001b[0;34m\u001b[0m\u001b[0m\n\u001b[0m\u001b[1;32m    791\u001b[0m             \u001b[0;32mif\u001b[0m \u001b[0mself\u001b[0m\u001b[0;34m.\u001b[0m\u001b[0mmodel_extra\u001b[0m \u001b[0;32mand\u001b[0m \u001b[0mname\u001b[0m \u001b[0;32min\u001b[0m \u001b[0mself\u001b[0m\u001b[0;34m.\u001b[0m\u001b[0mmodel_extra\u001b[0m\u001b[0;34m:\u001b[0m\u001b[0;34m\u001b[0m\u001b[0;34m\u001b[0m\u001b[0m\n\u001b[1;32m    792\u001b[0m                 \u001b[0mself\u001b[0m\u001b[0;34m.\u001b[0m\u001b[0m__pydantic_extra__\u001b[0m\u001b[0;34m[\u001b[0m\u001b[0mname\u001b[0m\u001b[0;34m]\u001b[0m \u001b[0;34m=\u001b[0m \u001b[0mvalue\u001b[0m  \u001b[0;31m# type: ignore\u001b[0m\u001b[0;34m\u001b[0m\u001b[0;34m\u001b[0m\u001b[0m\n",
      "\u001b[0;31mKeyboardInterrupt\u001b[0m: "
     ]
    }
   ],
   "source": [
    "agent_config = AgentConfig()\n",
    "training_config = TrainingConfig()\n",
    "agent = Agent(agent_config)\n",
    "env = TheGang()\n",
    "epoch_rewards = train_agent(agent, env, training_config, 40000, 0, 'Baseline')"
   ]
  }
 ],
 "metadata": {
  "kernelspec": {
   "display_name": "Python 3 (ipykernel)",
   "language": "python",
   "name": "python3"
  },
  "language_info": {
   "codemirror_mode": {
    "name": "ipython",
    "version": 3
   },
   "file_extension": ".py",
   "mimetype": "text/x-python",
   "name": "python",
   "nbconvert_exporter": "python",
   "pygments_lexer": "ipython3",
   "version": "3.7.13"
  }
 },
 "nbformat": 4,
 "nbformat_minor": 2
}
                                                                                                                                                                                                                                                                                                                                                                                                                                                                                                                                                                                                                                                                                                                                                                                                                                                                                                                                                                                                                                                                                                                                                                                                                                                                                                                                                                                                                                                                                                                                                                                                                                                                                                                                                                                                                                                                                                                                                                                                                                                                                                                                                                                                                                                                                                                                                                                                                                                                                                                                                                                                                                                                                                                                                                                                                                                                                                                                                                                                                                                                                                                                                                                                                                                                                                                                                                                                                                                                                                                                                                                                                                                                                                                                                                                                                                                                                                                                                                                                                                                                                                                                                                                                                  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\n",
      "text/plain": [
       "<Figure size 720x432 with 1 Axes>"
      ]
     },
     "metadata": {
      "needs_background": "light"
     },
     "output_type": "display_data"
    }
   ],
   "source": [
    "plot_rolling_mean(epoch_rewards, 50, \"Baseline\")"
   ]
  }
 ],
 "metadata": {
  "kernelspec": {
   "display_name": "Python 3 (ipykernel)",
   "language": "python",
   "name": "python3"
  },
  "language_info": {
   "codemirror_mode": {
    "name": "ipython",
    "version": 3
   },
   "file_extension": ".py",
   "mimetype": "text/x-python",
   "name": "python",
   "nbconvert_exporter": "python",
   "pygments_lexer": "ipython3",
   "version": "3.7.13"
  }
 },
 "nbformat": 4,
 "nbformat_minor": 2
}
